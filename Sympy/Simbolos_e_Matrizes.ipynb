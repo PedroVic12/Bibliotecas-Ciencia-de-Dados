{
 "cells": [
  {
   "cell_type": "markdown",
   "metadata": {},
   "source": [
    "***\n",
    "# Sympy\n",
    "https://docs.sympy.org/latest/index.html\n",
    "***"
   ]
  },
  {
   "cell_type": "markdown",
   "metadata": {},
   "source": [
    "# O que é SymPy\n",
    "SymPy é uma biblioteca para trabalhar com matemática simbólica.\n",
    "\n",
    "Algumas funcionalidades são:\n",
    "\n",
    "- Trabalhar com matrizes\n",
    "- Realizar cálculo de derivadas, integrais, etc.\n",
    "- Utilizar solvers"
   ]
  },
  {
   "cell_type": "markdown",
   "metadata": {},
   "source": [
    "## 1) Símbolos\n",
    "- Função symbols( string_de_símbolo )\n",
    "- Função init_printing()\n",
    "- Método subs( símbolos , valores )\n",
    "- Função simplify(equação)\n",
    "- Operações booleanas funcionam com símbolos\n",
    "- Outras maneiras de simplificar https://docs.sympy.org/latest/tutorial/simplification.html\n"
   ]
  },
  {
   "cell_type": "code",
   "execution_count": 84,
   "metadata": {},
   "outputs": [],
   "source": [
    "import sympy as sp"
   ]
  },
  {
   "cell_type": "markdown",
   "metadata": {},
   "source": [
    "### **Função Symbols**"
   ]
  },
  {
   "cell_type": "code",
   "execution_count": 85,
   "metadata": {},
   "outputs": [
    {
     "data": {
      "image/png": "[encoded data removed]",
      "text/latex": [
       "$\\displaystyle 2 x$"
      ],
      "text/plain": [
       "2⋅x"
      ]
     },
     "metadata": {},
     "output_type": "display_data"
    },
    {
     "data": {
      "image/png": "[encoded data removed]",
      "text/latex": [
       "$\\displaystyle x^{2}$"
      ],
      "text/plain": [
       " 2\n",
       "x "
      ]
     },
     "execution_count": 85,
     "metadata": {},
     "output_type": "execute_result"
    }
   ],
   "source": [
    "x = sp.symbols('x')\n",
    "\n",
    "display(x+x)\n",
    "x*x"
   ]
  },
  {
   "cell_type": "code",
   "execution_count": 86,
   "metadata": {},
   "outputs": [
    {
     "data": {
      "image/png": "[encoded data removed]",
      "text/latex": [
       "$\\displaystyle x^{2} + x y + y^{2}$"
      ],
      "text/plain": [
       " 2          2\n",
       "x  + x⋅y + y "
      ]
     },
     "execution_count": 86,
     "metadata": {},
     "output_type": "execute_result"
    }
   ],
   "source": [
    "sp.init_printing() #- faz os simbolos ficarem em forma de LATEX\n",
    "\n",
    "lista_simbolos = ['y','x']\n",
    "y,x = sp.symbols(lista_simbolos)\n",
    "\n",
    "f_x_y = x**2 + y**2 + x*y\n",
    "f_x_y"
   ]
  },
  {
   "cell_type": "markdown",
   "metadata": {},
   "source": [
    "### **Metodo Subs (simbolo,valor)**"
   ]
  },
  {
   "cell_type": "code",
   "execution_count": 87,
   "metadata": {},
   "outputs": [
    {
     "data": {
      "image/png": "[encoded data removed]",
      "text/latex": [
       "$\\displaystyle 7$"
      ],
      "text/plain": [
       "7"
      ]
     },
     "execution_count": 87,
     "metadata": {},
     "output_type": "execute_result"
    }
   ],
   "source": [
    "resposta = f_x_y.subs(x,1).subs(y,2) #-Substitui x por 1 e y por 2\n",
    "resposta "
   ]
  },
  {
   "cell_type": "markdown",
   "metadata": {},
   "source": [
    "### **Função Simplify**"
   ]
  },
  {
   "cell_type": "code",
   "execution_count": 88,
   "metadata": {},
   "outputs": [
    {
     "data": {
      "image/png": "[encoded data removed]",
      "text/latex": [
       "$\\displaystyle 2 x y + 2 y^{2} + \\left(x + y\\right)^{2}$"
      ],
      "text/plain": [
       "           2          2\n",
       "2⋅x⋅y + 2⋅y  + (x + y) "
      ]
     },
     "execution_count": 88,
     "metadata": {},
     "output_type": "execute_result"
    }
   ],
   "source": [
    "f_xy = (x+y)**2 + y**2 + 2*x*y + y**2\n",
    "f_xy"
   ]
  },
  {
   "cell_type": "code",
   "execution_count": 89,
   "metadata": {},
   "outputs": [
    {
     "data": {
      "image/png": "[encoded data removed]",
      "text/latex": [
       "$\\displaystyle x^{2} + 4 x y + 3 y^{2}$"
      ],
      "text/plain": [
       " 2              2\n",
       "x  + 4⋅x⋅y + 3⋅y "
      ]
     },
     "execution_count": 89,
     "metadata": {},
     "output_type": "execute_result"
    }
   ],
   "source": [
    "sp.simplify(f_xy) #-Ler mais sobre o simplify na documentação"
   ]
  },
  {
   "cell_type": "code",
   "execution_count": 90,
   "metadata": {},
   "outputs": [
    {
     "data": {
      "image/png": "[encoded data removed]",
      "text/latex": [
       "$\\displaystyle x \\geq y$"
      ],
      "text/plain": [
       "x ≥ y"
      ]
     },
     "execution_count": 90,
     "metadata": {},
     "output_type": "execute_result"
    }
   ],
   "source": [
    "x >= y"
   ]
  },
  {
   "cell_type": "markdown",
   "metadata": {},
   "source": [
    "## **Matrizes**\n",
    "- Função ``Matrix([])``\n",
    "- Propriedade ``.shape``\n",
    "- Matrizes úteis ``eye(tamanho)``, ``zeros( i,j)``, ``ones( i,j)``\n",
    "- ``diag( lista)`` → no caso do diag pode ser usado ``*`` antes da lista ou o argumento ``unpack=True``\n",
    "- Operações comuns: +,-,*\n",
    "- Para inverter a matriz, basta elevar a -1\n",
    "- Para transpor use o propriedade .T\n",
    "- Para achar o determinante use o método .det()\n",
    "- Para mais informações acesse: https://docs.sympy.org/latest/tutorial/matrices.html"
   ]
  },
  {
   "cell_type": "code",
   "execution_count": 91,
   "metadata": {},
   "outputs": [
    {
     "name": "stdout",
     "output_type": "stream",
     "text": [
      "(2, 3)\n",
      "(Linhas, Colunas)\n"
     ]
    },
    {
     "data": {
      "text/latex": [
       "$\\displaystyle \\left[\\begin{matrix}1 & 2 & 3\\\\4 & 5 & 6\\end{matrix}\\right]$"
      ],
      "text/plain": [
       "⎡1  2  3⎤\n",
       "⎢       ⎥\n",
       "⎣4  5  6⎦"
      ]
     },
     "execution_count": 91,
     "metadata": {},
     "output_type": "execute_result"
    }
   ],
   "source": [
    "A = sp.Matrix([[1,2,3], \n",
    "               [4,5,6]])\n",
    "\n",
    "print(A.shape) \n",
    "print('(Linhas, Colunas)')\n",
    "A"
   ]
  },
  {
   "cell_type": "code",
   "execution_count": 92,
   "metadata": {},
   "outputs": [
    {
     "name": "stdout",
     "output_type": "stream",
     "text": [
      "(1, 5)\n",
      "(Linhas, Colunas)\n"
     ]
    },
    {
     "data": {
      "text/latex": [
       "$\\displaystyle \\left[\\begin{matrix}1 & 2 & 3 & 4 & 5\\end{matrix}\\right]$"
      ],
      "text/plain": [
       "[1  2  3  4  5]"
      ]
     },
     "execution_count": 92,
     "metadata": {},
     "output_type": "execute_result"
    }
   ],
   "source": [
    "B = sp.Matrix([[1,2,3,4,5]])\n",
    "print(B.shape)\n",
    "print('(Linhas, Colunas)')\n",
    "B"
   ]
  },
  {
   "cell_type": "markdown",
   "metadata": {},
   "source": [
    "### **Matriz Transposta**"
   ]
  },
  {
   "cell_type": "code",
   "execution_count": 93,
   "metadata": {},
   "outputs": [
    {
     "data": {
      "text/latex": [
       "$\\displaystyle \\left[\\begin{matrix}1\\\\2\\\\3\\\\4\\\\5\\end{matrix}\\right]$"
      ],
      "text/plain": [
       "⎡1⎤\n",
       "⎢ ⎥\n",
       "⎢2⎥\n",
       "⎢ ⎥\n",
       "⎢3⎥\n",
       "⎢ ⎥\n",
       "⎢4⎥\n",
       "⎢ ⎥\n",
       "⎣5⎦"
      ]
     },
     "execution_count": 93,
     "metadata": {},
     "output_type": "execute_result"
    }
   ],
   "source": [
    "B = sp.Matrix([[1,2,3,4,5]]).T\n",
    "B"
   ]
  },
  {
   "cell_type": "code",
   "execution_count": 94,
   "metadata": {},
   "outputs": [
    {
     "data": {
      "text/latex": [
       "$\\displaystyle \\left[\\begin{matrix}1\\\\2\\\\3\\end{matrix}\\right]$"
      ],
      "text/plain": [
       "⎡1⎤\n",
       "⎢ ⎥\n",
       "⎢2⎥\n",
       "⎢ ⎥\n",
       "⎣3⎦"
      ]
     },
     "metadata": {},
     "output_type": "display_data"
    },
    {
     "name": "stdout",
     "output_type": "stream",
     "text": [
      "Repare que vai dar igual! Boa Pratica!\n"
     ]
    },
    {
     "data": {
      "text/latex": [
       "$\\displaystyle \\left[\\begin{matrix}1\\\\2\\\\3\\end{matrix}\\right]$"
      ],
      "text/plain": [
       "⎡1⎤\n",
       "⎢ ⎥\n",
       "⎢2⎥\n",
       "⎢ ⎥\n",
       "⎣3⎦"
      ]
     },
     "execution_count": 94,
     "metadata": {},
     "output_type": "execute_result"
    }
   ],
   "source": [
    "C = sp.Matrix([[1],\n",
    "               [2],\n",
    "               [3]])\n",
    "display(C)\n",
    "\n",
    "D = sp.Matrix([1,2,3])\n",
    "print('Repare que vai dar igual! Boa Pratica!')\n",
    "D"
   ]
  },
  {
   "cell_type": "markdown",
   "metadata": {},
   "source": [
    "### **Matriz Importantes** \n",
    "- Matriz Identidade → `sp.eye(tamanho)`\n",
    "\n",
    "- Matriz Nula → ``sp.zeros(i,j)``\n",
    "\n",
    "- Matriz Valor 1 → ``sp.ones(i,j)``\n",
    "\n",
    "- Matriz Inversa → **(-1)\n",
    "\n",
    "- Determinante → ``det(I)``"
   ]
  },
  {
   "cell_type": "code",
   "execution_count": 95,
   "metadata": {},
   "outputs": [
    {
     "data": {
      "text/latex": [
       "$\\displaystyle \\left[\\begin{matrix}1 & 0 & 0\\\\0 & 1 & 0\\\\0 & 0 & 1\\end{matrix}\\right]$"
      ],
      "text/plain": [
       "⎡1  0  0⎤\n",
       "⎢       ⎥\n",
       "⎢0  1  0⎥\n",
       "⎢       ⎥\n",
       "⎣0  0  1⎦"
      ]
     },
     "execution_count": 95,
     "metadata": {},
     "output_type": "execute_result"
    }
   ],
   "source": [
    "Ind =sp.eye(3)\n",
    "Ind"
   ]
  },
  {
   "cell_type": "code",
   "execution_count": 96,
   "metadata": {},
   "outputs": [
    {
     "data": {
      "text/latex": [
       "$\\displaystyle \\left[\\begin{matrix}0 & 0 & 0\\\\0 & 0 & 0\\\\0 & 0 & 0\\end{matrix}\\right]$"
      ],
      "text/plain": [
       "⎡0  0  0⎤\n",
       "⎢       ⎥\n",
       "⎢0  0  0⎥\n",
       "⎢       ⎥\n",
       "⎣0  0  0⎦"
      ]
     },
     "execution_count": 96,
     "metadata": {},
     "output_type": "execute_result"
    }
   ],
   "source": [
    "I = sp.zeros(3)\n",
    "I"
   ]
  },
  {
   "cell_type": "code",
   "execution_count": 97,
   "metadata": {},
   "outputs": [
    {
     "data": {
      "text/latex": [
       "$\\displaystyle \\left[\\begin{matrix}7 & 0 & 0\\\\0 & 8 & 0\\\\0 & 0 & 9\\end{matrix}\\right]$"
      ],
      "text/plain": [
       "⎡7  0  0⎤\n",
       "⎢       ⎥\n",
       "⎢0  8  0⎥\n",
       "⎢       ⎥\n",
       "⎣0  0  9⎦"
      ]
     },
     "execution_count": 97,
     "metadata": {},
     "output_type": "execute_result"
    }
   ],
   "source": [
    "lista_I = [7,8,9]\n",
    "I = sp.diag(lista_I, unpack = True)\n",
    "I"
   ]
  },
  {
   "cell_type": "code",
   "execution_count": 100,
   "metadata": {},
   "outputs": [
    {
     "name": "stdout",
     "output_type": "stream",
     "text": [
      "Matriz\n"
     ]
    },
    {
     "data": {
      "text/latex": [
       "$\\displaystyle \\left[\\begin{matrix}7 & 0 & 0\\\\0 & 8 & 0\\\\0 & 0 & 9\\end{matrix}\\right]$"
      ],
      "text/plain": [
       "⎡7  0  0⎤\n",
       "⎢       ⎥\n",
       "⎢0  8  0⎥\n",
       "⎢       ⎥\n",
       "⎣0  0  9⎦"
      ]
     },
     "metadata": {},
     "output_type": "display_data"
    },
    {
     "name": "stdout",
     "output_type": "stream",
     "text": [
      "Matriz Inversa\n"
     ]
    },
    {
     "data": {
      "text/latex": [
       "$\\displaystyle \\left[\\begin{matrix}\\frac{1}{7} & 0 & 0\\\\0 & \\frac{1}{8} & 0\\\\0 & 0 & \\frac{1}{9}\\end{matrix}\\right]$"
      ],
      "text/plain": [
       "⎡1/7   0    0 ⎤\n",
       "⎢             ⎥\n",
       "⎢ 0   1/8   0 ⎥\n",
       "⎢             ⎥\n",
       "⎣ 0    0   1/9⎦"
      ]
     },
     "execution_count": 100,
     "metadata": {},
     "output_type": "execute_result"
    }
   ],
   "source": [
    "print('Matriz')\n",
    "display(I)\n",
    "\n",
    "print('Matriz Inversa')\n",
    "(I*Ind)**(-1)"
   ]
  },
  {
   "cell_type": "code",
   "execution_count": 110,
   "metadata": {},
   "outputs": [
    {
     "data": {
      "text/latex": [
       "$\\displaystyle \\left[\\begin{matrix}7 & 0 & 0\\\\0 & 8 & 0\\\\0 & 0 & 9\\end{matrix}\\right]$"
      ],
      "text/plain": [
       "⎡7  0  0⎤\n",
       "⎢       ⎥\n",
       "⎢0  8  0⎥\n",
       "⎢       ⎥\n",
       "⎣0  0  9⎦"
      ]
     },
     "metadata": {},
     "output_type": "display_data"
    },
    {
     "name": "stdout",
     "output_type": "stream",
     "text": [
      "determinante =  504\n"
     ]
    }
   ],
   "source": [
    "display(I)\n",
    "print(\"determinante = \",I.det())"
   ]
  },
  {
   "cell_type": "markdown",
   "metadata": {},
   "source": [
    "## **Sistemas Lineares**"
   ]
  },
  {
   "cell_type": "code",
   "execution_count": 134,
   "metadata": {},
   "outputs": [
    {
     "data": {
      "text/plain": [
       "'Matriz X'"
      ]
     },
     "metadata": {},
     "output_type": "display_data"
    },
    {
     "data": {
      "text/latex": [
       "$\\displaystyle \\left[\\begin{matrix}x_{1}\\\\x_{2}\\\\x_{3}\\end{matrix}\\right]$"
      ],
      "text/plain": [
       "⎡x₁⎤\n",
       "⎢  ⎥\n",
       "⎢x₂⎥\n",
       "⎢  ⎥\n",
       "⎣x₃⎦"
      ]
     },
     "metadata": {},
     "output_type": "display_data"
    },
    {
     "data": {
      "text/plain": [
       "'Vetor V'"
      ]
     },
     "metadata": {},
     "output_type": "display_data"
    },
    {
     "data": {
      "text/latex": [
       "$\\displaystyle \\left[\\begin{matrix}1 & 2 & 3\\\\4 & 5 & 6\\\\7 & 8 & 9\\end{matrix}\\right]$"
      ],
      "text/plain": [
       "⎡1  2  3⎤\n",
       "⎢       ⎥\n",
       "⎢4  5  6⎥\n",
       "⎢       ⎥\n",
       "⎣7  8  9⎦"
      ]
     },
     "metadata": {},
     "output_type": "display_data"
    },
    {
     "name": "stdout",
     "output_type": "stream",
     "text": [
      "Multiplicando vetor V em X = Y\n"
     ]
    },
    {
     "data": {
      "text/latex": [
       "$\\displaystyle \\left[\\begin{matrix}x_{1} + 2 x_{2} + 3 x_{3} - 11\\\\4 x_{1} + 5 x_{2} + 6 x_{3} - 22\\\\7 x_{1} + 8 x_{2} + 9 x_{3} - 33\\end{matrix}\\right]$"
      ],
      "text/plain": [
       "⎡ x₁ + 2⋅x₂ + 3⋅x₃ - 11 ⎤\n",
       "⎢                       ⎥\n",
       "⎢4⋅x₁ + 5⋅x₂ + 6⋅x₃ - 22⎥\n",
       "⎢                       ⎥\n",
       "⎣7⋅x₁ + 8⋅x₂ + 9⋅x₃ - 33⎦"
      ]
     },
     "execution_count": 134,
     "metadata": {},
     "output_type": "execute_result"
    }
   ],
   "source": [
    "x1,x2,x3 = sp.symbols(['x1','x2','x3'])\n",
    "\n",
    "#- Vetores\n",
    "x = sp.Matrix([x1,x2,x3])\n",
    "\n",
    "v = sp.Matrix([[1,2,3],\n",
    "                [4,5,6],\n",
    "                [7,8,9]])\n",
    "\n",
    "y = sp.Matrix([11,22,33])\n",
    "\n",
    "#! Quero Fazer XV = Y\n",
    "display('Matriz X',x)\n",
    "display('Vetor V',v)\n",
    "\n",
    "print('Multiplicando vetor V em X = Y')\n",
    "v*x - y"
   ]
  }
 ],
 "metadata": {
  "interpreter": {
   "hash": "74ab7c6ffe6706754a8af46cc4d18eebe476c74ce21a19282f620e1b1e9919fe"
  },
  "kernelspec": {
   "display_name": "Python 3.9.7 ('base')",
   "language": "python",
   "name": "python3"
  },
  "language_info": {
   "codemirror_mode": {
    "name": "ipython",
    "version": 3
   },
   "file_extension": ".py",
   "mimetype": "text/x-python",
   "name": "python",
   "nbconvert_exporter": "python",
   "pygments_lexer": "ipython3",
   "version": "3.9.7"
  },
  "orig_nbformat": 4
 },
 "nbformat": 4,
 "nbformat_minor": 2
}
