{
 "cells": [
  {
   "cell_type": "markdown",
   "metadata": {},
   "source": [
    "## P1 - Turma V2 - Matutino\n",
    "\n",
    "Construa um programa para gerenciar um caixa de um **posto de gasolina**. Nesse **posto de gasolina**, o frentista deverá entrar com os dados de uma comanda no sistema. Esta comanda será o arquivo **comanda.dat**. Seu programa deve ser capaz de **identificar qual tipo de combustíveis** foi selecionado pelo cliente, **quantos litros foram solicitados** pelo cliente e **dar a ele um retorno do quanto** o mesmo **deve pagar**. Outra informação relevante é, se há algum **desconto devido a parceria com empresa de cartão de crédito**."
   ]
  },
  {
   "cell_type": "markdown",
   "metadata": {},
   "source": [
    "a) Crie variáveis adequadas para fazer a alimentação do programa com os dados contidos no arquivo específicas a partir da tela. (2 pontos)"
   ]
  },
  {
   "cell_type": "code",
   "execution_count": 4,
   "metadata": {},
   "outputs": [
    {
     "name": "stdout",
     "output_type": "stream",
     "text": [
      "Posto de gasolina Meio do Dia\n",
      "\n",
      "Número de clientes\n",
      "5\n",
      "\n",
      "Cliente 1\n",
      "Nome: Carlos Alves\n",
      "Combustível: Gasolina Comum\n",
      "Valor Unitário: R$ 4.10\n",
      "Litros: 10\n",
      "Desconto do cartão: Sim \n",
      "\n",
      "Cliente 2\n",
      "Nome: Maria Fernanda Siqueira\n",
      "Combustível: Gasolina Aditivada\n",
      "Valor Unitário: R$ 4.80\n",
      "Litros: 3\n",
      "Desconto do cartão: Não \n",
      "\n",
      "Cliente 3\n",
      "Nome: Cláudio Fontes\n",
      "Combustível: Gasolina Comum\n",
      "Valor Unitário: R$ 3.90\n",
      "Litros: 30\n",
      "Desconto do cartão: Sim \n",
      "\n",
      "Cliente 4\n",
      "Nome: Manoel Costa\n",
      "Combustível: Gasolina Comum\n",
      "Valor Unitário: R$ 4.10\n",
      "Litros: 12\n",
      "Desconto do cartão: não \n",
      "\n",
      "Cliente 5\n",
      "Nome: Márcia Costa\n",
      "Combustível: Diesel\n",
      "Valor Unitário: R$ 4.50\n",
      "Litros: 8\n",
      "Desconto do cartão: Sim \n"
     ]
    }
   ],
   "source": [
    "with open('comanda.txt','r') as arquivo:\n",
    "    #Metodo Read le o arquivo inteiro como uma unica String\n",
    "    comanda = arquivo.read()\n",
    "print(comanda)"
   ]
  },
  {
   "cell_type": "code",
   "execution_count": 156,
   "metadata": {},
   "outputs": [
    {
     "name": "stdout",
     "output_type": "stream",
     "text": [
      "Todos os items dentro de uma lista unica:  ['Carlos Alves', 'Gasolina Comum', 10, 'Sim', 'Maria Fernanda Siqueira', 'Gasolina Aditivada', 3, 'Não', 'Cláudio Fontes', 'Gasolina Comum', 30, 'Sim', 'Manoel Costa', 'Gasolina Comum', 12, 'não', 'Márcia Costa', 'Diesel', 8, 'Sim']\n",
      "\n",
      "\n",
      "\n",
      "Mostrando todos os Clientes na tela\n",
      "0 -> {'Cliente': 'Carlos Alves', 'Combustivel': 'Gasolina Comum', 'Quantidade em Litros': 10, 'Desconto no Cartão?': 'Sim'}\n",
      "1 -> {'Cliente': 'Maria Fernanda Siqueira', 'Combustivel': 'Gasolina Aditivada', 'Quantidade em Litros': 3, 'Desconto no Cartão?': 'Não'}\n",
      "2 -> {'Cliente': 'Cláudio Fontes', 'Combustivel': 'Gasolina Comum', 'Quantidade em Litros': 30, 'Desconto no Cartão?': 'Sim'}\n",
      "3 -> {'Cliente': 'Manoel Costa', 'Combustivel': 'Gasolina Comum', 'Quantidade em Litros': 12, 'Desconto no Cartão?': 'não'}\n",
      "4 -> {'Cliente': 'Márcia Costa', 'Combustivel': 'Diesel', 'Quantidade em Litros': 8, 'Desconto no Cartão?': 'Sim'}\n"
     ]
    }
   ],
   "source": [
    "with open('comanda.txt','r') as arquivo:\n",
    "    #Metodo Readlines nos fornece em forma de lista\n",
    "    comanda = arquivo.readlines()\n",
    "#? print(comanda)\n",
    "\n",
    "i = 0\n",
    "dados_posto = []\n",
    "\n",
    "for linha in comanda:\n",
    "\n",
    "    if 'Nome' in linha:\n",
    "        #?print(linha)\n",
    "\n",
    "        #Pegando o nome do cliente\n",
    "        posicao = linha.find(':')\n",
    "        #Varivael Posicao Retorna quantos index possuem ate o : (nome = 4 index)\n",
    "        #print(posicao)\n",
    "\n",
    "\n",
    "        #.strip() -> retirar os espaços da frase ('\\n' que significa quebra de linha)\n",
    "        nome_cliente = linha[posicao+2:].strip()\n",
    "        # clientes[f'Cliente {i}']['nome'] = nome_cliente\n",
    "        dados_posto.append(nome_cliente)\n",
    "        \n",
    "    if 'Combustível' in linha:\n",
    "        posicao = linha.find(':')\n",
    "        tipo_combustivel = linha[posicao+2:].strip()\n",
    "        # clientes[f'Cliente']['Combustível'] = tipo_combustivel\n",
    "        dados_posto.append(tipo_combustivel)\n",
    "\n",
    "    if 'Litros' in linha:\n",
    "        posicao = linha.find(':')\n",
    "        qnt_litros = linha[posicao+2:].strip()\n",
    "        # clientes[f'Cliente']['Litros'] = qnt_litros\n",
    "        dados_posto.append(int(qnt_litros))\n",
    "\n",
    "    if 'Desconto' in linha:\n",
    "        posicao = linha.find(':')\n",
    "        desconto = linha[posicao+2:].strip()\n",
    "        dados_posto.append(desconto)\n",
    "\n",
    "\n",
    "#Adicionando os valores no dicionario\n",
    "teste = []\n",
    "for i in range(len(dados_posto)):\n",
    "    clientes = {f'Cliente {i+1}':\n",
    "                {'Nome':dados_posto[0],\n",
    "                'Combustivel':dados_posto[1],\n",
    "                'Quantidade em Litros':dados_posto[2],\n",
    "                'Desconto no Cartão?':dados_posto[3]\n",
    "                }\n",
    "                }\n",
    "    teste.append(clientes)\n",
    "    \n",
    "print('Todos os items dentro de uma lista unica: ',dados_posto)\n",
    "\n",
    "tabela_clientes = []\n",
    "\n",
    "for i in range(0,5):\n",
    "    # print(dados_posto)\n",
    "    teste[i] = {f'Cliente':dados_posto[0],\n",
    "                'Combustivel':dados_posto[1],\n",
    "                'Quantidade em Litros':dados_posto[2],\n",
    "                'Desconto no Cartão?':dados_posto[3]\n",
    "                }\n",
    "    dados_posto = dados_posto[4:]\n",
    "    tabela_clientes.append(teste)\n",
    "\n",
    "print('\\n\\n')\n",
    "print('Mostrando todos os Clientes na tela')\n",
    "tabela = []\n",
    "for i in range(len(tabela_clientes)):\n",
    "    tabela.append(tabela_clientes[0][i]) \n",
    "    print(f'{i} ->',tabela[i])\n"
   ]
  },
  {
   "cell_type": "code",
   "execution_count": 153,
   "metadata": {},
   "outputs": [
    {
     "data": {
      "text/html": [
       "<div>\n",
       "<style scoped>\n",
       "    .dataframe tbody tr th:only-of-type {\n",
       "        vertical-align: middle;\n",
       "    }\n",
       "\n",
       "    .dataframe tbody tr th {\n",
       "        vertical-align: top;\n",
       "    }\n",
       "\n",
       "    .dataframe thead th {\n",
       "        text-align: right;\n",
       "    }\n",
       "</style>\n",
       "<table border=\"1\" class=\"dataframe\">\n",
       "  <thead>\n",
       "    <tr style=\"text-align: right;\">\n",
       "      <th></th>\n",
       "      <th>Cliente</th>\n",
       "      <th>Combustivel</th>\n",
       "      <th>Quantidade em Litros</th>\n",
       "      <th>Desconto no Cartão?</th>\n",
       "    </tr>\n",
       "  </thead>\n",
       "  <tbody>\n",
       "    <tr>\n",
       "      <th>0</th>\n",
       "      <td>Carlos Alves</td>\n",
       "      <td>Gasolina Comum</td>\n",
       "      <td>10</td>\n",
       "      <td>Sim</td>\n",
       "    </tr>\n",
       "    <tr>\n",
       "      <th>1</th>\n",
       "      <td>Maria Fernanda Siqueira</td>\n",
       "      <td>Gasolina Aditivada</td>\n",
       "      <td>3</td>\n",
       "      <td>Não</td>\n",
       "    </tr>\n",
       "    <tr>\n",
       "      <th>2</th>\n",
       "      <td>Cláudio Fontes</td>\n",
       "      <td>Gasolina Comum</td>\n",
       "      <td>30</td>\n",
       "      <td>Sim</td>\n",
       "    </tr>\n",
       "    <tr>\n",
       "      <th>3</th>\n",
       "      <td>Manoel Costa</td>\n",
       "      <td>Gasolina Comum</td>\n",
       "      <td>12</td>\n",
       "      <td>não</td>\n",
       "    </tr>\n",
       "    <tr>\n",
       "      <th>4</th>\n",
       "      <td>Márcia Costa</td>\n",
       "      <td>Diesel</td>\n",
       "      <td>8</td>\n",
       "      <td>Sim</td>\n",
       "    </tr>\n",
       "  </tbody>\n",
       "</table>\n",
       "</div>"
      ],
      "text/plain": [
       "                   Cliente         Combustivel  Quantidade em Litros  \\\n",
       "0             Carlos Alves      Gasolina Comum                    10   \n",
       "1  Maria Fernanda Siqueira  Gasolina Aditivada                     3   \n",
       "2           Cláudio Fontes      Gasolina Comum                    30   \n",
       "3             Manoel Costa      Gasolina Comum                    12   \n",
       "4             Márcia Costa              Diesel                     8   \n",
       "\n",
       "  Desconto no Cartão?  \n",
       "0                 Sim  \n",
       "1                 Não  \n",
       "2                 Sim  \n",
       "3                 não  \n",
       "4                 Sim  "
      ]
     },
     "metadata": {},
     "output_type": "display_data"
    }
   ],
   "source": [
    "import pandas as pd\n",
    "df = pd.DataFrame.from_dict(tabela)\n",
    "display(df)"
   ]
  },
  {
   "cell_type": "markdown",
   "metadata": {},
   "source": [
    "b) Faça o cálculo de quanto o cliente deveria pagar sem descontos com os dados armazenados."
   ]
  },
  {
   "cell_type": "markdown",
   "metadata": {},
   "source": [
    "d) O cliente deve ter a opção de avisar se o pagamento será realizado com ou sem desconto de 5% caso o posto de gasolina tenha convênio com a empresa de cartão de crédito. Sendo assim, escreva também no arquivo notafiscal.dat o preço total com o desconto de 5% e sem o valor do desconto de 5%."
   ]
  },
  {
   "cell_type": "markdown",
   "metadata": {},
   "source": [
    "e) Esse posto de gasolina tem uma promoção, para mais de 20 litros de gasolina tem 10% de desconto, só que este desconto ao ser dado, não pode ser dado o desconto do convênio do cartão de crédito."
   ]
  },
  {
   "cell_type": "markdown",
   "metadata": {},
   "source": [
    "f) Como saída de dados escreva na tela, nome do cliente, o nome do combustível selecionado pelo cliente, o valor unitário (por litro) do combustível selecionado, quantos litros o cliente solicitou e valor total a ser pago pelo mesmo. Tudo isso em forma de tabela organizada"
   ]
  }
 ],
 "metadata": {
  "kernelspec": {
   "display_name": "Python 3.9.12 ('base')",
   "language": "python",
   "name": "python3"
  },
  "language_info": {
   "codemirror_mode": {
    "name": "ipython",
    "version": 3
   },
   "file_extension": ".py",
   "mimetype": "text/x-python",
   "name": "python",
   "nbconvert_exporter": "python",
   "pygments_lexer": "ipython3",
   "version": "3.9.12"
  },
  "orig_nbformat": 4,
  "vscode": {
   "interpreter": {
    "hash": "9bf87e57966c0194be553cb1874a73cae073db857d46fcd6cd599b797e05d9dc"
   }
  }
 },
 "nbformat": 4,
 "nbformat_minor": 2
}
