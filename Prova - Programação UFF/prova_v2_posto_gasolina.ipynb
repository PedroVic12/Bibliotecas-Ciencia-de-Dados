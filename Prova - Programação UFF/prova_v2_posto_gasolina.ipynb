{
 "cells": [
  {
   "cell_type": "markdown",
   "metadata": {},
   "source": [
    "## P1 - Turma V2 - Matutino\n",
    "\n",
    "Construa um programa para gerenciar um caixa de um **posto de gasolina**. Nesse **posto de gasolina**, o frentista deverá entrar com os dados de uma comanda no sistema. Esta comanda será o arquivo **comanda.dat**. Seu programa deve ser capaz de **identificar qual tipo de combustíveis** foi selecionado pelo cliente, **quantos litros foram solicitados** pelo cliente e **dar a ele um retorno do quanto** o mesmo **deve pagar**. Outra informação relevante é, se há algum **desconto devido a parceria com empresa de cartão de crédito**."
   ]
  },
  {
   "cell_type": "markdown",
   "metadata": {},
   "source": [
    "a) Crie variáveis adequadas para fazer a alimentação do programa com os dados contidos no arquivo específicas a partir da tela. (2 pontos)"
   ]
  },
  {
   "cell_type": "code",
   "execution_count": 4,
   "metadata": {},
   "outputs": [
    {
     "name": "stdout",
     "output_type": "stream",
     "text": [
      "Posto de gasolina Meio do Dia\n",
      "\n",
      "Número de clientes\n",
      "5\n",
      "\n",
      "Cliente 1\n",
      "Nome: Carlos Alves\n",
      "Combustível: Gasolina Comum\n",
      "Valor Unitário: R$ 4.10\n",
      "Litros: 10\n",
      "Desconto do cartão: Sim \n",
      "\n",
      "Cliente 2\n",
      "Nome: Maria Fernanda Siqueira\n",
      "Combustível: Gasolina Aditivada\n",
      "Valor Unitário: R$ 4.80\n",
      "Litros: 3\n",
      "Desconto do cartão: Não \n",
      "\n",
      "Cliente 3\n",
      "Nome: Cláudio Fontes\n",
      "Combustível: Gasolina Comum\n",
      "Valor Unitário: R$ 3.90\n",
      "Litros: 30\n",
      "Desconto do cartão: Sim \n",
      "\n",
      "Cliente 4\n",
      "Nome: Manoel Costa\n",
      "Combustível: Gasolina Comum\n",
      "Valor Unitário: R$ 4.10\n",
      "Litros: 12\n",
      "Desconto do cartão: não \n",
      "\n",
      "Cliente 5\n",
      "Nome: Márcia Costa\n",
      "Combustível: Diesel\n",
      "Valor Unitário: R$ 4.50\n",
      "Litros: 8\n",
      "Desconto do cartão: Sim \n"
     ]
    }
   ],
   "source": [
    "with open('comanda.txt','r') as arquivo:\n",
    "    #Metodo Read le o arquivo inteiro como uma unica String\n",
    "    comanda = arquivo.read()\n",
    "print(comanda)"
   ]
  },
  {
   "cell_type": "code",
   "execution_count": 14,
   "metadata": {},
   "outputs": [
    {
     "name": "stdout",
     "output_type": "stream",
     "text": [
      "['Carlos Alves', 'Gasolina Comum', '10', 'Sim', 'Maria Fernanda Siqueira', 'Gasolina Aditivada', '3', 'Não', 'Cláudio Fontes', 'Gasolina Comum', '30', 'Sim', 'Manoel Costa', 'Gasolina Comum', '12', 'não', 'Márcia Costa', 'Diesel', '8', 'Sim']\n",
      "\n",
      "\n",
      "\n",
      "{'Cliente 20': {'Nome': 'Carlos Alves', 'Combustivel': 'Gasolina Comum', 'Quantidade em Litros': '10', 'Desconto no Cartão?': 'Sim'}}\n",
      "\n",
      "Funcionou!!! agora so fazer isso para todos os clientes\n",
      "\n"
     ]
    }
   ],
   "source": [
    "with open('comanda.txt','r') as arquivo:\n",
    "    #Metodo Readlines nos fornece em forma de lista\n",
    "    comanda = arquivo.readlines()\n",
    "#? print(comanda)\n",
    "\n",
    "i = 0\n",
    "dados_posto = []\n",
    "clientes = {}\n",
    "\n",
    "clientes ={\n",
    "           f'Cliente {i}':{'nome':'',\n",
    "                'Combustível':'',\n",
    "                'Litros':''\n",
    "                }\n",
    "           }\n",
    "\n",
    "for linha in comanda:\n",
    "\n",
    "    if 'Nome' in linha:\n",
    "        #?print(linha)\n",
    "\n",
    "        #Pegando o nome do cliente\n",
    "        posicao = linha.find(':')\n",
    "        #Varivael Posicao Retorna quantos index possuem ate o : (nome = 4 index)\n",
    "        #print(posicao)\n",
    "\n",
    "\n",
    "        #.strip() -> retirar os espaços da frase ('\\n' que significa quebra de linha)\n",
    "        nome_cliente = linha[posicao+2:].strip()\n",
    "        # clientes[f'Cliente {i}']['nome'] = nome_cliente\n",
    "        dados_posto.append(nome_cliente)\n",
    "        \n",
    "    if 'Combustível' in linha:\n",
    "        posicao = linha.find(':')\n",
    "        tipo_combustivel = linha[posicao+2:].strip()\n",
    "        # clientes[f'Cliente']['Combustível'] = tipo_combustivel\n",
    "        dados_posto.append(tipo_combustivel)\n",
    "\n",
    "    if 'Litros' in linha:\n",
    "        posicao = linha.find(':')\n",
    "        qnt_litros = linha[posicao+2:].strip()\n",
    "        # clientes[f'Cliente']['Litros'] = qnt_litros\n",
    "        dados_posto.append(qnt_litros)\n",
    "\n",
    "    if 'Desconto' in linha:\n",
    "        posicao = linha.find(':')\n",
    "        desconto = linha[posicao+2:].strip()\n",
    "        dados_posto.append(desconto)\n",
    "\n",
    "\n",
    "#Adicionando os valores no dicionario\n",
    "teste = []\n",
    "for i in range(len(dados_posto)):\n",
    "    clientes = {f'Cliente {i+1}':\n",
    "                {'Nome':dados_posto[0],\n",
    "                'Combustivel':dados_posto[1],\n",
    "                'Quantidade em Litros':dados_posto[2],\n",
    "                'Desconto no Cartão?':dados_posto[3]\n",
    "                }\n",
    "                }\n",
    "    teste.append(clientes)\n",
    "    \n",
    "print(dados_posto)\n",
    "print('\\n\\n')\n",
    "print(clientes)\n",
    "\n"
   ]
  },
  {
   "cell_type": "markdown",
   "metadata": {},
   "source": [
    "## Testes de codigo:"
   ]
  },
  {
   "cell_type": "code",
   "execution_count": 15,
   "metadata": {},
   "outputs": [
    {
     "name": "stdout",
     "output_type": "stream",
     "text": [
      "['Carlos Alves', 'Gasolina Comum', '10', 'Sim', 'Maria Fernanda Siqueira', 'Gasolina Aditivada', '3', 'Não', 'Cláudio Fontes', 'Gasolina Comum', '30', 'Sim', 'Manoel Costa', 'Gasolina Comum', '12', 'não', 'Márcia Costa', 'Diesel', '8', 'Sim']\n",
      "\n",
      "\n",
      "\n",
      "{'Cliente 20': {'Nome': 'Carlos Alves', 'Combustivel': 'Gasolina Comum', 'Quantidade em Litros': '10', 'Desconto no Cartão?': 'Sim'}}\n",
      "\n",
      "Funcionou!!! agora so fazer isso para todos os clientes\n",
      "\n"
     ]
    }
   ],
   "source": [
    "teste = []\n",
    "\n",
    "for i in range(len(dados_posto)):\n",
    "    indices = ['Nome','Combustivel','Quantidade em Litros','Desconto no Cartão?']\n",
    "    clientes = {f'Cliente {i+1}':\n",
    "                {indices[0]:dados_posto[0],\n",
    "                indices[1]:dados_posto[1],\n",
    "                indices[2]:dados_posto[2],\n",
    "                indices[3]:dados_posto[3]\n",
    "                }\n",
    "                }\n",
    "    teste.append(clientes)\n",
    "print(dados_posto)\n",
    "print('\\n\\n')\n",
    "print(clientes)\n",
    "print('\\nFuncionou!!! agora so fazer isso para todos os clientes\\n')\n",
    "# print(teste)"
   ]
  },
  {
   "cell_type": "code",
   "execution_count": 6,
   "metadata": {},
   "outputs": [
    {
     "name": "stdout",
     "output_type": "stream",
     "text": [
      "['a', 1]\n",
      "['b', 2]\n",
      "['c', 1]\n",
      "['a', 2]\n",
      "['b', 3]\n",
      "['a', 3]\n",
      "{'a': [1, 2, 3], 'b': [2, 3], 'c': [1]}\n"
     ]
    }
   ],
   "source": [
    "a=[['a',1],['b',2],['c',1],['a',2],['b',3],['a',3]]\n",
    "d={}\n",
    "for i in a:\n",
    "    print (i)\n",
    "    if i[0] not in d:\n",
    "       d[i[0]]= [i[1]]\n",
    "    else:\n",
    "        d[i[0]].append(i[1])\n",
    "print (d)\n",
    "\n"
   ]
  },
  {
   "cell_type": "code",
   "execution_count": 7,
   "metadata": {},
   "outputs": [
    {
     "data": {
      "text/plain": [
       "[{0: 33.422, 1: 39.2308, 2: 30.132},\n",
       " {0: 42.2422, 1: 43.342, 2: 42.424},\n",
       " {0: 13.422, 1: 9.2308, 2: 20.132}]"
      ]
     },
     "execution_count": 7,
     "metadata": {},
     "output_type": "execute_result"
    }
   ],
   "source": [
    "dict1 = {0: 33.422, 1: 39.2308, 2: 30.132}\n",
    "dict2 = {0: 42.2422, 1: 43.342, 2: 42.424}\n",
    "dict3 = {0: 13.422, 1: 9.2308, 2: 20.132}\n",
    "dicts = []\n",
    "dicts.append(dict1)\n",
    "dicts.append(dict2)\n",
    "dicts.append(dict3)\n",
    "\n",
    "dicts"
   ]
  },
  {
   "cell_type": "markdown",
   "metadata": {},
   "source": [
    "b) Faça o cálculo de quanto o cliente deveria pagar sem descontos com os dados armazenados."
   ]
  },
  {
   "cell_type": "markdown",
   "metadata": {},
   "source": [
    "d) O cliente deve ter a opção de avisar se o pagamento será realizado com ou sem desconto de 5% caso o posto de gasolina tenha convênio com a empresa de cartão de crédito. Sendo assim, escreva também no arquivo notafiscal.dat o preço total com o desconto de 5% e sem o valor do desconto de 5%."
   ]
  },
  {
   "cell_type": "markdown",
   "metadata": {},
   "source": [
    "e) Esse posto de gasolina tem uma promoção, para mais de 20 litros de gasolina tem 10% de desconto, só que este desconto ao ser dado, não pode ser dado o desconto do convênio do cartão de crédito."
   ]
  },
  {
   "cell_type": "markdown",
   "metadata": {},
   "source": [
    "f) Como saída de dados escreva na tela, nome do cliente, o nome do combustível selecionado pelo cliente, o valor unitário (por litro) do combustível selecionado, quantos litros o cliente solicitou e valor total a ser pago pelo mesmo. Tudo isso em forma de tabela organizada"
   ]
  }
 ],
 "metadata": {
  "kernelspec": {
   "display_name": "Python 3.9.12 ('base')",
   "language": "python",
   "name": "python3"
  },
  "language_info": {
   "codemirror_mode": {
    "name": "ipython",
    "version": 3
   },
   "file_extension": ".py",
   "mimetype": "text/x-python",
   "name": "python",
   "nbconvert_exporter": "python",
   "pygments_lexer": "ipython3",
   "version": "3.9.12"
  },
  "orig_nbformat": 4,
  "vscode": {
   "interpreter": {
    "hash": "9bf87e57966c0194be553cb1874a73cae073db857d46fcd6cd599b797e05d9dc"
   }
  }
 },
 "nbformat": 4,
 "nbformat_minor": 2
}
